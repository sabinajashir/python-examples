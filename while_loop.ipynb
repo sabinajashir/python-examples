{
 "cells": [
  {
   "cell_type": "code",
   "execution_count": 2,
   "id": "9c5aa82d",
   "metadata": {},
   "outputs": [
    {
     "name": "stdout",
     "output_type": "stream",
     "text": [
      "current speed : 0\n",
      "current speed : 2\n",
      "current speed : 4\n",
      "current speed : 6\n",
      "current speed : 8\n",
      "current speed : 10\n",
      "current speed : 12\n",
      "current speed : 14\n",
      "current speed : 16\n",
      "current speed : 18\n",
      "current speed : 20\n",
      "current speed : 22\n",
      "current speed : 24\n",
      "current speed : 26\n",
      "current speed : 28\n",
      "current speed : 30\n",
      "current speed : 32\n",
      "current speed : 34\n",
      "current speed : 36\n",
      "current speed : 38\n",
      "current speed : 40\n",
      "current speed : 42\n",
      "current speed : 44\n",
      "current speed : 46\n",
      "current speed : 48\n",
      "current speed : 50\n",
      "current speed : 52\n",
      "current speed : 54\n",
      "current speed : 56\n",
      "current speed : 58\n"
     ]
    }
   ],
   "source": [
    "initial_speed=0\n",
    "final_speed=60\n",
    "\n",
    "while(initial_speed<= final_speed):\n",
    "    print('current speed :',initial_speed)\n",
    "    initial_speed+=2\n",
    "    if(initial_speed==60):\n",
    "        break;\n"
   ]
  },
  {
   "cell_type": "code",
   "execution_count": null,
   "id": "ff5c553c",
   "metadata": {},
   "outputs": [],
   "source": []
  }
 ],
 "metadata": {
  "kernelspec": {
   "display_name": "Python 3 (ipykernel)",
   "language": "python",
   "name": "python3"
  },
  "language_info": {
   "codemirror_mode": {
    "name": "ipython",
    "version": 3
   },
   "file_extension": ".py",
   "mimetype": "text/x-python",
   "name": "python",
   "nbconvert_exporter": "python",
   "pygments_lexer": "ipython3",
   "version": "3.9.7"
  }
 },
 "nbformat": 4,
 "nbformat_minor": 5
}
