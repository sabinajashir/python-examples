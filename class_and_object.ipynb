{
 "cells": [
  {
   "cell_type": "code",
   "execution_count": 15,
   "id": "b9ae5a1a",
   "metadata": {},
   "outputs": [],
   "source": [
    "class data:\n",
    "    def __init__(self, file_name, file_type, date,  size):\n",
    "        self.file_name=file_name\n",
    "        self.file_type=file_type\n",
    "        self.date=date\n",
    "        self.size=size\n",
    "        \n",
    "    def file_open(self):\n",
    "        try:\n",
    "            f= open(self.file_name,\"w\")\n",
    "            f.write(\"A file has been opened\")\n",
    "            f.close()\n",
    "        except exception as e:\n",
    "            print(\"Error occured as \", e)\n",
    "    \n",
    "    def file_read(self):\n",
    "        try:\n",
    "            f=open(self.file_name,\"r\")\n",
    "            print(f.read())\n",
    "            f.close()\n",
    "        except exception as e:\n",
    "            print(\"Error occured as \", e)\n",
    "    \n",
    "    def file_append(self):\n",
    "        try:\n",
    "            f=open(self.file_name,\"a\")\n",
    "            f.write(\"Appending the data\")\n",
    "            f.close()\n",
    "        except exception as e:\n",
    "            print(\"Error occured as \", e)\n",
    "        \n",
    "    def logger(self):\n",
    "        try:\n",
    "            \n"
   ]
  },
  {
   "cell_type": "code",
   "execution_count": 5,
   "id": "db3f5c02",
   "metadata": {},
   "outputs": [],
   "source": [
    "file1= data('test','txt','19/12/2021','1MB')"
   ]
  },
  {
   "cell_type": "code",
   "execution_count": 6,
   "id": "00cf0cd3",
   "metadata": {},
   "outputs": [],
   "source": [
    "file1.file_open()"
   ]
  },
  {
   "cell_type": "code",
   "execution_count": null,
   "id": "58152d91",
   "metadata": {},
   "outputs": [],
   "source": []
  },
  {
   "cell_type": "code",
   "execution_count": null,
   "id": "fd07ec84",
   "metadata": {},
   "outputs": [],
   "source": [
    "class student:\n",
    "    def __init__(self, name, rollno, joining_year, current_topic):\n",
    "        self.name=name\n",
    "        self.rollno=rollno\n",
    "        self.joining_year=joining_year\n",
    "        self.current_topic=current_topic\n",
    "        \n",
    "    def curr_topic(self):\n",
    "        print(\"The current topic discussed in the class is \", self.current_topic)\n",
    "        \n",
    "    def str_rollno(self):\n",
    "        if type(self.rollno)==str:\n",
    "            print(type(self.rollno))\n",
    "        else:\n",
    "            return str(self.rollno)\n",
    "        \n",
    "    def duration(self,curr_year):\n",
    "        return curr_year-self.joining_year\n",
    "    \n",
    "    \n",
    "stu_1=student('srini',20,2020,'ML')   \n",
    "stu_2=student('sreedevi','34',2018,'DL')"
   ]
  },
  {
   "cell_type": "code",
   "execution_count": 9,
   "id": "ab3b9134",
   "metadata": {},
   "outputs": [
    {
     "name": "stdout",
     "output_type": "stream",
     "text": [
      "The current topic discussed in the class is  ML\n"
     ]
    }
   ],
   "source": [
    "stu_1.curr_topic()"
   ]
  },
  {
   "cell_type": "code",
   "execution_count": 10,
   "id": "1cb372be",
   "metadata": {},
   "outputs": [
    {
     "name": "stdout",
     "output_type": "stream",
     "text": [
      "The current topic discussed in the class is  DL\n"
     ]
    }
   ],
   "source": [
    "stu_2.curr_topic()"
   ]
  },
  {
   "cell_type": "code",
   "execution_count": 20,
   "id": "e10db3f3",
   "metadata": {},
   "outputs": [
    {
     "data": {
      "text/plain": [
       "3"
      ]
     },
     "execution_count": 20,
     "metadata": {},
     "output_type": "execute_result"
    }
   ],
   "source": [
    "stu_2.duration(2021)"
   ]
  },
  {
   "cell_type": "code",
   "execution_count": null,
   "id": "bf9f5354",
   "metadata": {},
   "outputs": [],
   "source": []
  }
 ],
 "metadata": {
  "kernelspec": {
   "display_name": "Python 3 (ipykernel)",
   "language": "python",
   "name": "python3"
  },
  "language_info": {
   "codemirror_mode": {
    "name": "ipython",
    "version": 3
   },
   "file_extension": ".py",
   "mimetype": "text/x-python",
   "name": "python",
   "nbconvert_exporter": "python",
   "pygments_lexer": "ipython3",
   "version": "3.9.7"
  }
 },
 "nbformat": 4,
 "nbformat_minor": 5
}
