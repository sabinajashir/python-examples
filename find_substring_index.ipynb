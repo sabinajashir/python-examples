{
 "cells": [
  {
   "cell_type": "code",
   "execution_count": 14,
   "id": "0b5b6f7c",
   "metadata": {},
   "outputs": [],
   "source": [
    "s=\"My name is sabina, name\"\n"
   ]
  },
  {
   "cell_type": "code",
   "execution_count": 15,
   "id": "8909ff87",
   "metadata": {},
   "outputs": [
    {
     "data": {
      "text/plain": [
       "'My name is sabina, name'"
      ]
     },
     "execution_count": 15,
     "metadata": {},
     "output_type": "execute_result"
    }
   ],
   "source": [
    "s"
   ]
  },
  {
   "cell_type": "code",
   "execution_count": 18,
   "id": "35209fd2",
   "metadata": {},
   "outputs": [],
   "source": [
    "a=s.find('name')"
   ]
  },
  {
   "cell_type": "code",
   "execution_count": 19,
   "id": "56a63d0c",
   "metadata": {},
   "outputs": [
    {
     "name": "stdout",
     "output_type": "stream",
     "text": [
      "3\n",
      "4\n",
      "5\n",
      "6\n"
     ]
    }
   ],
   "source": [
    "for i in range (len('name')):\n",
    "    print(a+i)"
   ]
  },
  {
   "cell_type": "code",
   "execution_count": null,
   "id": "68a68176",
   "metadata": {},
   "outputs": [],
   "source": []
  },
  {
   "cell_type": "code",
   "execution_count": null,
   "id": "26c1a26d",
   "metadata": {},
   "outputs": [],
   "source": []
  },
  {
   "cell_type": "code",
   "execution_count": null,
   "id": "7d84e97c",
   "metadata": {},
   "outputs": [],
   "source": []
  },
  {
   "cell_type": "code",
   "execution_count": null,
   "id": "defc4bfa",
   "metadata": {},
   "outputs": [],
   "source": []
  },
  {
   "cell_type": "code",
   "execution_count": null,
   "id": "9455397e",
   "metadata": {},
   "outputs": [],
   "source": []
  },
  {
   "cell_type": "code",
   "execution_count": null,
   "id": "498ba210",
   "metadata": {},
   "outputs": [],
   "source": []
  }
 ],
 "metadata": {
  "kernelspec": {
   "display_name": "Python 3 (ipykernel)",
   "language": "python",
   "name": "python3"
  },
  "language_info": {
   "codemirror_mode": {
    "name": "ipython",
    "version": 3
   },
   "file_extension": ".py",
   "mimetype": "text/x-python",
   "name": "python",
   "nbconvert_exporter": "python",
   "pygments_lexer": "ipython3",
   "version": "3.9.7"
  }
 },
 "nbformat": 4,
 "nbformat_minor": 5
}
